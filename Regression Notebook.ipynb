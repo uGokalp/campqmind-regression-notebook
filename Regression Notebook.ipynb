{
 "cells": [
  {
   "cell_type": "markdown",
   "metadata": {},
   "source": [
    "![img.png](CampQMIND_banner.png)"
   ]
  },
  {
   "cell_type": "markdown",
   "metadata": {
    "toc": true
   },
   "source": [
    "<h1>Table of Contents<span class=\"tocSkip\"></span></h1>\n",
    "<div class=\"toc\"><ul class=\"toc-item\"><li><span><a href=\"#Importing-libraries\" data-toc-modified-id=\"Importing-libraries-1\"><span class=\"toc-item-num\">1&nbsp;&nbsp;</span>Importing libraries</a></span></li><li><span><a href=\"#Reading-Data\" data-toc-modified-id=\"Reading-Data-2\"><span class=\"toc-item-num\">2&nbsp;&nbsp;</span>Reading Data</a></span></li><li><span><a href=\"#Preparing-Data\" data-toc-modified-id=\"Preparing-Data-3\"><span class=\"toc-item-num\">3&nbsp;&nbsp;</span>Preparing Data</a></span><ul class=\"toc-item\"><li><span><a href=\"#Feature-Engineering\" data-toc-modified-id=\"Feature-Engineering-3.1\"><span class=\"toc-item-num\">3.1&nbsp;&nbsp;</span>Feature Engineering</a></span><ul class=\"toc-item\"><li><ul class=\"toc-item\"><li><span><a href=\"#Standardization-example\" data-toc-modified-id=\"Standardization-example-3.1.0.1\"><span class=\"toc-item-num\">3.1.0.1&nbsp;&nbsp;</span>Standardization example</a></span></li><li><span><a href=\"#Dummy-variable-example\" data-toc-modified-id=\"Dummy-variable-example-3.1.0.2\"><span class=\"toc-item-num\">3.1.0.2&nbsp;&nbsp;</span>Dummy variable example</a></span></li></ul></li></ul></li><li><span><a href=\"#Spliting-into-train,-val,-test\" data-toc-modified-id=\"Spliting-into-train,-val,-test-3.2\"><span class=\"toc-item-num\">3.2&nbsp;&nbsp;</span>Spliting into train, val, test</a></span></li></ul></li><li><span><a href=\"#Models\" data-toc-modified-id=\"Models-4\"><span class=\"toc-item-num\">4&nbsp;&nbsp;</span>Models</a></span><ul class=\"toc-item\"><li><span><a href=\"#Linear-Regression\" data-toc-modified-id=\"Linear-Regression-4.1\"><span class=\"toc-item-num\">4.1&nbsp;&nbsp;</span>Linear Regression</a></span></li><li><span><a href=\"#Decision-Tree\" data-toc-modified-id=\"Decision-Tree-4.2\"><span class=\"toc-item-num\">4.2&nbsp;&nbsp;</span>Decision Tree</a></span></li><li><span><a href=\"#Random-Forests\" data-toc-modified-id=\"Random-Forests-4.3\"><span class=\"toc-item-num\">4.3&nbsp;&nbsp;</span>Random Forests</a></span></li><li><span><a href=\"#Support-Vector-Regression\" data-toc-modified-id=\"Support-Vector-Regression-4.4\"><span class=\"toc-item-num\">4.4&nbsp;&nbsp;</span>Support Vector Regression</a></span></li></ul></li><li><span><a href=\"#Hyperparameter-Tuning\" data-toc-modified-id=\"Hyperparameter-Tuning-5\"><span class=\"toc-item-num\">5&nbsp;&nbsp;</span>Hyperparameter Tuning</a></span></li></ul></div>"
   ]
  },
  {
   "cell_type": "markdown",
   "metadata": {
    "heading_collapsed": true
   },
   "source": [
    "# Importing libraries"
   ]
  },
  {
   "cell_type": "code",
   "execution_count": 27,
   "metadata": {
    "hidden": true
   },
   "outputs": [],
   "source": [
    "import pandas as pd\n",
    "import numpy as np\n",
    "\n",
    "from sklearn.preprocessing import StandardScaler\n",
    "from sklearn.model_selection import train_test_split\n",
    "\n",
    "from sklearn.linear_model import LinearRegression\n",
    "from sklearn.ensemble import RandomForestRegressor\n",
    "from sklearn.tree import DecisionTreeRegressor\n",
    "from sklearn.svm import SVR\n",
    "\n",
    "from sklearn.model_selection import GridSearchCV\n",
    "from sklearn.metrics import mean_squared_error, r2_score"
   ]
  },
  {
   "cell_type": "markdown",
   "metadata": {},
   "source": [
    "# Reading Data"
   ]
  },
  {
   "cell_type": "markdown",
   "metadata": {},
   "source": [
    "The dataset is from a kaggle competition.\n",
    "\n",
    "https://www.kaggle.com/c/house-prices-advanced-regression-techniques\n",
    "\n",
    "The original dataset has 81 columns but we are going to use 13 features."
   ]
  },
  {
   "cell_type": "code",
   "execution_count": 29,
   "metadata": {},
   "outputs": [],
   "source": [
    "selected_cols = [\n",
    "    \"LotFrontage\", \"LotArea\", \"OverallQual\", \"OverallCond\", \"YearBuilt\",\n",
    "    \"YearRemodAdd\", \"MasVnrArea\", \"BsmtFinSF1\", \"BsmtUnfSF\", \"HouseStyle\",\n",
    "    \"SaleCondition\", \"Neighborhood\", \"OverallQual\", \"OverallCond\", \"SalePrice\"\n",
    "]\n",
    "df = pd.read_csv(\"housePriceData.csv\", usecols=selected_cols)"
   ]
  },
  {
   "cell_type": "code",
   "execution_count": 32,
   "metadata": {
    "scrolled": true
   },
   "outputs": [
    {
     "data": {
      "text/html": [
       "<div>\n",
       "<style scoped>\n",
       "    .dataframe tbody tr th:only-of-type {\n",
       "        vertical-align: middle;\n",
       "    }\n",
       "\n",
       "    .dataframe tbody tr th {\n",
       "        vertical-align: top;\n",
       "    }\n",
       "\n",
       "    .dataframe thead th {\n",
       "        text-align: right;\n",
       "    }\n",
       "</style>\n",
       "<table border=\"1\" class=\"dataframe\">\n",
       "  <thead>\n",
       "    <tr style=\"text-align: right;\">\n",
       "      <th></th>\n",
       "      <th>LotFrontage</th>\n",
       "      <th>LotArea</th>\n",
       "      <th>Neighborhood</th>\n",
       "      <th>HouseStyle</th>\n",
       "      <th>OverallQual</th>\n",
       "      <th>OverallCond</th>\n",
       "      <th>YearBuilt</th>\n",
       "      <th>YearRemodAdd</th>\n",
       "      <th>MasVnrArea</th>\n",
       "      <th>BsmtFinSF1</th>\n",
       "      <th>BsmtUnfSF</th>\n",
       "      <th>SaleCondition</th>\n",
       "      <th>SalePrice</th>\n",
       "    </tr>\n",
       "  </thead>\n",
       "  <tbody>\n",
       "    <tr>\n",
       "      <th>0</th>\n",
       "      <td>65.0</td>\n",
       "      <td>8450</td>\n",
       "      <td>CollgCr</td>\n",
       "      <td>2Story</td>\n",
       "      <td>7</td>\n",
       "      <td>5</td>\n",
       "      <td>2003</td>\n",
       "      <td>2003</td>\n",
       "      <td>196.0</td>\n",
       "      <td>706</td>\n",
       "      <td>150</td>\n",
       "      <td>Normal</td>\n",
       "      <td>208500</td>\n",
       "    </tr>\n",
       "    <tr>\n",
       "      <th>1</th>\n",
       "      <td>80.0</td>\n",
       "      <td>9600</td>\n",
       "      <td>Veenker</td>\n",
       "      <td>1Story</td>\n",
       "      <td>6</td>\n",
       "      <td>8</td>\n",
       "      <td>1976</td>\n",
       "      <td>1976</td>\n",
       "      <td>0.0</td>\n",
       "      <td>978</td>\n",
       "      <td>284</td>\n",
       "      <td>Normal</td>\n",
       "      <td>181500</td>\n",
       "    </tr>\n",
       "    <tr>\n",
       "      <th>2</th>\n",
       "      <td>68.0</td>\n",
       "      <td>11250</td>\n",
       "      <td>CollgCr</td>\n",
       "      <td>2Story</td>\n",
       "      <td>7</td>\n",
       "      <td>5</td>\n",
       "      <td>2001</td>\n",
       "      <td>2002</td>\n",
       "      <td>162.0</td>\n",
       "      <td>486</td>\n",
       "      <td>434</td>\n",
       "      <td>Normal</td>\n",
       "      <td>223500</td>\n",
       "    </tr>\n",
       "    <tr>\n",
       "      <th>3</th>\n",
       "      <td>60.0</td>\n",
       "      <td>9550</td>\n",
       "      <td>Crawfor</td>\n",
       "      <td>2Story</td>\n",
       "      <td>7</td>\n",
       "      <td>5</td>\n",
       "      <td>1915</td>\n",
       "      <td>1970</td>\n",
       "      <td>0.0</td>\n",
       "      <td>216</td>\n",
       "      <td>540</td>\n",
       "      <td>Abnorml</td>\n",
       "      <td>140000</td>\n",
       "    </tr>\n",
       "    <tr>\n",
       "      <th>4</th>\n",
       "      <td>84.0</td>\n",
       "      <td>14260</td>\n",
       "      <td>NoRidge</td>\n",
       "      <td>2Story</td>\n",
       "      <td>8</td>\n",
       "      <td>5</td>\n",
       "      <td>2000</td>\n",
       "      <td>2000</td>\n",
       "      <td>350.0</td>\n",
       "      <td>655</td>\n",
       "      <td>490</td>\n",
       "      <td>Normal</td>\n",
       "      <td>250000</td>\n",
       "    </tr>\n",
       "  </tbody>\n",
       "</table>\n",
       "</div>"
      ],
      "text/plain": [
       "   LotFrontage  LotArea Neighborhood HouseStyle  OverallQual  OverallCond  \\\n",
       "0         65.0     8450      CollgCr     2Story            7            5   \n",
       "1         80.0     9600      Veenker     1Story            6            8   \n",
       "2         68.0    11250      CollgCr     2Story            7            5   \n",
       "3         60.0     9550      Crawfor     2Story            7            5   \n",
       "4         84.0    14260      NoRidge     2Story            8            5   \n",
       "\n",
       "   YearBuilt  YearRemodAdd  MasVnrArea  BsmtFinSF1  BsmtUnfSF SaleCondition  \\\n",
       "0       2003          2003       196.0         706        150        Normal   \n",
       "1       1976          1976         0.0         978        284        Normal   \n",
       "2       2001          2002       162.0         486        434        Normal   \n",
       "3       1915          1970         0.0         216        540       Abnorml   \n",
       "4       2000          2000       350.0         655        490        Normal   \n",
       "\n",
       "   SalePrice  \n",
       "0     208500  \n",
       "1     181500  \n",
       "2     223500  \n",
       "3     140000  \n",
       "4     250000  "
      ]
     },
     "execution_count": 32,
     "metadata": {},
     "output_type": "execute_result"
    }
   ],
   "source": [
    "df.head()"
   ]
  },
  {
   "cell_type": "code",
   "execution_count": 35,
   "metadata": {
    "scrolled": true
   },
   "outputs": [
    {
     "data": {
      "text/plain": [
       "13"
      ]
     },
     "execution_count": 35,
     "metadata": {},
     "output_type": "execute_result"
    }
   ],
   "source": [
    "len(df.columns)"
   ]
  },
  {
   "cell_type": "markdown",
   "metadata": {
    "heading_collapsed": true
   },
   "source": [
    "# Preparing Data"
   ]
  },
  {
   "cell_type": "code",
   "execution_count": 4,
   "metadata": {
    "hidden": true
   },
   "outputs": [
    {
     "name": "stdout",
     "output_type": "stream",
     "text": [
      "<class 'pandas.core.frame.DataFrame'>\n",
      "RangeIndex: 1460 entries, 0 to 1459\n",
      "Data columns (total 13 columns):\n",
      " #   Column         Non-Null Count  Dtype  \n",
      "---  ------         --------------  -----  \n",
      " 0   LotFrontage    1201 non-null   float64\n",
      " 1   LotArea        1460 non-null   int64  \n",
      " 2   Neighborhood   1460 non-null   object \n",
      " 3   HouseStyle     1460 non-null   object \n",
      " 4   OverallQual    1460 non-null   int64  \n",
      " 5   OverallCond    1460 non-null   int64  \n",
      " 6   YearBuilt      1460 non-null   int64  \n",
      " 7   YearRemodAdd   1460 non-null   int64  \n",
      " 8   MasVnrArea     1452 non-null   float64\n",
      " 9   BsmtFinSF1     1460 non-null   int64  \n",
      " 10  BsmtUnfSF      1460 non-null   int64  \n",
      " 11  SaleCondition  1460 non-null   object \n",
      " 12  SalePrice      1460 non-null   int64  \n",
      "dtypes: float64(2), int64(8), object(3)\n",
      "memory usage: 148.4+ KB\n"
     ]
    }
   ],
   "source": [
    "df.info()"
   ]
  },
  {
   "cell_type": "code",
   "execution_count": 5,
   "metadata": {
    "hidden": true
   },
   "outputs": [],
   "source": [
    "# Looks like LotFrontage has 259 missing values and MasVnrArea has 8 missing values\n",
    "# We will assume the reason that they are missing is because they don't exist in the house\n",
    "# We will fill them with zeroes.\n",
    "\n",
    "df.fillna(0, inplace=True)"
   ]
  },
  {
   "cell_type": "markdown",
   "metadata": {
    "hidden": true
   },
   "source": [
    "## Feature Engineering"
   ]
  },
  {
   "cell_type": "code",
   "execution_count": 28,
   "metadata": {
    "hidden": true
   },
   "outputs": [
    {
     "data": {
      "text/html": [
       "<div>\n",
       "<style scoped>\n",
       "    .dataframe tbody tr th:only-of-type {\n",
       "        vertical-align: middle;\n",
       "    }\n",
       "\n",
       "    .dataframe tbody tr th {\n",
       "        vertical-align: top;\n",
       "    }\n",
       "\n",
       "    .dataframe thead th {\n",
       "        text-align: right;\n",
       "    }\n",
       "</style>\n",
       "<table border=\"1\" class=\"dataframe\">\n",
       "  <thead>\n",
       "    <tr style=\"text-align: right;\">\n",
       "      <th></th>\n",
       "      <th>LotFrontage</th>\n",
       "      <th>LotArea</th>\n",
       "      <th>OverallQual</th>\n",
       "      <th>OverallCond</th>\n",
       "      <th>MasVnrArea</th>\n",
       "      <th>BsmtFinSF1</th>\n",
       "      <th>BsmtUnfSF</th>\n",
       "      <th>SalePrice</th>\n",
       "      <th>RelAge</th>\n",
       "      <th>Neighborhood_Blmngtn</th>\n",
       "      <th>...</th>\n",
       "      <th>HouseStyle_2.5Unf</th>\n",
       "      <th>HouseStyle_2Story</th>\n",
       "      <th>HouseStyle_SFoyer</th>\n",
       "      <th>HouseStyle_SLvl</th>\n",
       "      <th>SaleCondition_Abnorml</th>\n",
       "      <th>SaleCondition_AdjLand</th>\n",
       "      <th>SaleCondition_Alloca</th>\n",
       "      <th>SaleCondition_Family</th>\n",
       "      <th>SaleCondition_Normal</th>\n",
       "      <th>SaleCondition_Partial</th>\n",
       "    </tr>\n",
       "  </thead>\n",
       "  <tbody>\n",
       "    <tr>\n",
       "      <th>0</th>\n",
       "      <td>0.212877</td>\n",
       "      <td>-0.207142</td>\n",
       "      <td>0.651479</td>\n",
       "      <td>-0.517200</td>\n",
       "      <td>0.514104</td>\n",
       "      <td>0.575425</td>\n",
       "      <td>-0.944591</td>\n",
       "      <td>12.247699</td>\n",
       "      <td>-0.555742</td>\n",
       "      <td>0</td>\n",
       "      <td>...</td>\n",
       "      <td>0</td>\n",
       "      <td>1</td>\n",
       "      <td>0</td>\n",
       "      <td>0</td>\n",
       "      <td>0</td>\n",
       "      <td>0</td>\n",
       "      <td>0</td>\n",
       "      <td>0</td>\n",
       "      <td>1</td>\n",
       "      <td>0</td>\n",
       "    </tr>\n",
       "    <tr>\n",
       "      <th>1</th>\n",
       "      <td>0.645747</td>\n",
       "      <td>-0.091886</td>\n",
       "      <td>-0.071836</td>\n",
       "      <td>2.179628</td>\n",
       "      <td>-0.570750</td>\n",
       "      <td>1.171992</td>\n",
       "      <td>-0.641228</td>\n",
       "      <td>12.109016</td>\n",
       "      <td>-0.555742</td>\n",
       "      <td>0</td>\n",
       "      <td>...</td>\n",
       "      <td>0</td>\n",
       "      <td>0</td>\n",
       "      <td>0</td>\n",
       "      <td>0</td>\n",
       "      <td>0</td>\n",
       "      <td>0</td>\n",
       "      <td>0</td>\n",
       "      <td>0</td>\n",
       "      <td>1</td>\n",
       "      <td>0</td>\n",
       "    </tr>\n",
       "    <tr>\n",
       "      <th>2</th>\n",
       "      <td>0.299451</td>\n",
       "      <td>0.073480</td>\n",
       "      <td>0.651479</td>\n",
       "      <td>-0.517200</td>\n",
       "      <td>0.325915</td>\n",
       "      <td>0.092907</td>\n",
       "      <td>-0.301643</td>\n",
       "      <td>12.317171</td>\n",
       "      <td>-0.514873</td>\n",
       "      <td>0</td>\n",
       "      <td>...</td>\n",
       "      <td>0</td>\n",
       "      <td>1</td>\n",
       "      <td>0</td>\n",
       "      <td>0</td>\n",
       "      <td>0</td>\n",
       "      <td>0</td>\n",
       "      <td>0</td>\n",
       "      <td>0</td>\n",
       "      <td>1</td>\n",
       "      <td>0</td>\n",
       "    </tr>\n",
       "    <tr>\n",
       "      <th>3</th>\n",
       "      <td>0.068587</td>\n",
       "      <td>-0.096897</td>\n",
       "      <td>0.651479</td>\n",
       "      <td>-0.517200</td>\n",
       "      <td>-0.570750</td>\n",
       "      <td>-0.499274</td>\n",
       "      <td>-0.061670</td>\n",
       "      <td>11.849405</td>\n",
       "      <td>1.692084</td>\n",
       "      <td>0</td>\n",
       "      <td>...</td>\n",
       "      <td>0</td>\n",
       "      <td>1</td>\n",
       "      <td>0</td>\n",
       "      <td>0</td>\n",
       "      <td>1</td>\n",
       "      <td>0</td>\n",
       "      <td>0</td>\n",
       "      <td>0</td>\n",
       "      <td>0</td>\n",
       "      <td>0</td>\n",
       "    </tr>\n",
       "    <tr>\n",
       "      <th>4</th>\n",
       "      <td>0.761179</td>\n",
       "      <td>0.375148</td>\n",
       "      <td>1.374795</td>\n",
       "      <td>-0.517200</td>\n",
       "      <td>1.366489</td>\n",
       "      <td>0.463568</td>\n",
       "      <td>-0.174865</td>\n",
       "      <td>12.429220</td>\n",
       "      <td>-0.555742</td>\n",
       "      <td>0</td>\n",
       "      <td>...</td>\n",
       "      <td>0</td>\n",
       "      <td>1</td>\n",
       "      <td>0</td>\n",
       "      <td>0</td>\n",
       "      <td>0</td>\n",
       "      <td>0</td>\n",
       "      <td>0</td>\n",
       "      <td>0</td>\n",
       "      <td>1</td>\n",
       "      <td>0</td>\n",
       "    </tr>\n",
       "  </tbody>\n",
       "</table>\n",
       "<p>5 rows × 48 columns</p>\n",
       "</div>"
      ],
      "text/plain": [
       "   LotFrontage   LotArea  OverallQual  OverallCond  MasVnrArea  BsmtFinSF1  \\\n",
       "0     0.212877 -0.207142     0.651479    -0.517200    0.514104    0.575425   \n",
       "1     0.645747 -0.091886    -0.071836     2.179628   -0.570750    1.171992   \n",
       "2     0.299451  0.073480     0.651479    -0.517200    0.325915    0.092907   \n",
       "3     0.068587 -0.096897     0.651479    -0.517200   -0.570750   -0.499274   \n",
       "4     0.761179  0.375148     1.374795    -0.517200    1.366489    0.463568   \n",
       "\n",
       "   BsmtUnfSF  SalePrice    RelAge  Neighborhood_Blmngtn  ...  \\\n",
       "0  -0.944591  12.247699 -0.555742                     0  ...   \n",
       "1  -0.641228  12.109016 -0.555742                     0  ...   \n",
       "2  -0.301643  12.317171 -0.514873                     0  ...   \n",
       "3  -0.061670  11.849405  1.692084                     0  ...   \n",
       "4  -0.174865  12.429220 -0.555742                     0  ...   \n",
       "\n",
       "   HouseStyle_2.5Unf  HouseStyle_2Story  HouseStyle_SFoyer  HouseStyle_SLvl  \\\n",
       "0                  0                  1                  0                0   \n",
       "1                  0                  0                  0                0   \n",
       "2                  0                  1                  0                0   \n",
       "3                  0                  1                  0                0   \n",
       "4                  0                  1                  0                0   \n",
       "\n",
       "   SaleCondition_Abnorml  SaleCondition_AdjLand  SaleCondition_Alloca  \\\n",
       "0                      0                      0                     0   \n",
       "1                      0                      0                     0   \n",
       "2                      0                      0                     0   \n",
       "3                      1                      0                     0   \n",
       "4                      0                      0                     0   \n",
       "\n",
       "   SaleCondition_Family  SaleCondition_Normal  SaleCondition_Partial  \n",
       "0                     0                     1                      0  \n",
       "1                     0                     1                      0  \n",
       "2                     0                     1                      0  \n",
       "3                     0                     0                      0  \n",
       "4                     0                     1                      0  \n",
       "\n",
       "[5 rows x 48 columns]"
      ]
     },
     "execution_count": 28,
     "metadata": {},
     "output_type": "execute_result"
    }
   ],
   "source": [
    "df.head()"
   ]
  },
  {
   "cell_type": "code",
   "execution_count": 26,
   "metadata": {
    "hidden": true
   },
   "outputs": [
    {
     "name": "stdout",
     "output_type": "stream",
     "text": [
      "<class 'pandas.core.frame.DataFrame'>\n",
      "RangeIndex: 1460 entries, 0 to 1459\n",
      "Data columns (total 48 columns):\n",
      " #   Column                 Non-Null Count  Dtype  \n",
      "---  ------                 --------------  -----  \n",
      " 0   LotFrontage            1460 non-null   float64\n",
      " 1   LotArea                1460 non-null   float64\n",
      " 2   OverallQual            1460 non-null   float64\n",
      " 3   OverallCond            1460 non-null   float64\n",
      " 4   MasVnrArea             1460 non-null   float64\n",
      " 5   BsmtFinSF1             1460 non-null   float64\n",
      " 6   BsmtUnfSF              1460 non-null   float64\n",
      " 7   SalePrice              1460 non-null   float64\n",
      " 8   RelAge                 1460 non-null   float64\n",
      " 9   Neighborhood_Blmngtn   1460 non-null   uint8  \n",
      " 10  Neighborhood_Blueste   1460 non-null   uint8  \n",
      " 11  Neighborhood_BrDale    1460 non-null   uint8  \n",
      " 12  Neighborhood_BrkSide   1460 non-null   uint8  \n",
      " 13  Neighborhood_ClearCr   1460 non-null   uint8  \n",
      " 14  Neighborhood_CollgCr   1460 non-null   uint8  \n",
      " 15  Neighborhood_Crawfor   1460 non-null   uint8  \n",
      " 16  Neighborhood_Edwards   1460 non-null   uint8  \n",
      " 17  Neighborhood_Gilbert   1460 non-null   uint8  \n",
      " 18  Neighborhood_IDOTRR    1460 non-null   uint8  \n",
      " 19  Neighborhood_MeadowV   1460 non-null   uint8  \n",
      " 20  Neighborhood_Mitchel   1460 non-null   uint8  \n",
      " 21  Neighborhood_NAmes     1460 non-null   uint8  \n",
      " 22  Neighborhood_NPkVill   1460 non-null   uint8  \n",
      " 23  Neighborhood_NWAmes    1460 non-null   uint8  \n",
      " 24  Neighborhood_NoRidge   1460 non-null   uint8  \n",
      " 25  Neighborhood_NridgHt   1460 non-null   uint8  \n",
      " 26  Neighborhood_OldTown   1460 non-null   uint8  \n",
      " 27  Neighborhood_SWISU     1460 non-null   uint8  \n",
      " 28  Neighborhood_Sawyer    1460 non-null   uint8  \n",
      " 29  Neighborhood_SawyerW   1460 non-null   uint8  \n",
      " 30  Neighborhood_Somerst   1460 non-null   uint8  \n",
      " 31  Neighborhood_StoneBr   1460 non-null   uint8  \n",
      " 32  Neighborhood_Timber    1460 non-null   uint8  \n",
      " 33  Neighborhood_Veenker   1460 non-null   uint8  \n",
      " 34  HouseStyle_1.5Fin      1460 non-null   uint8  \n",
      " 35  HouseStyle_1.5Unf      1460 non-null   uint8  \n",
      " 36  HouseStyle_1Story      1460 non-null   uint8  \n",
      " 37  HouseStyle_2.5Fin      1460 non-null   uint8  \n",
      " 38  HouseStyle_2.5Unf      1460 non-null   uint8  \n",
      " 39  HouseStyle_2Story      1460 non-null   uint8  \n",
      " 40  HouseStyle_SFoyer      1460 non-null   uint8  \n",
      " 41  HouseStyle_SLvl        1460 non-null   uint8  \n",
      " 42  SaleCondition_Abnorml  1460 non-null   uint8  \n",
      " 43  SaleCondition_AdjLand  1460 non-null   uint8  \n",
      " 44  SaleCondition_Alloca   1460 non-null   uint8  \n",
      " 45  SaleCondition_Family   1460 non-null   uint8  \n",
      " 46  SaleCondition_Normal   1460 non-null   uint8  \n",
      " 47  SaleCondition_Partial  1460 non-null   uint8  \n",
      "dtypes: float64(9), uint8(39)\n",
      "memory usage: 158.4 KB\n"
     ]
    }
   ],
   "source": [
    "df.info()"
   ]
  },
  {
   "cell_type": "code",
   "execution_count": 8,
   "metadata": {
    "hidden": true
   },
   "outputs": [],
   "source": [
    "def standardize(data):\n",
    "    scaler = StandardScaler()\n",
    "    return scaler.fit_transform(data)"
   ]
  },
  {
   "cell_type": "code",
   "execution_count": 12,
   "metadata": {
    "hidden": true
   },
   "outputs": [],
   "source": [
    "# Creating a age when sold feature\n",
    "df[\"RelAge\"] = df[\"YearRemodAdd\"] - df[\"YearBuilt\"]\n",
    "df.drop([\"YearRemodAdd\", \"YearBuilt\"], axis=1, inplace=True)"
   ]
  },
  {
   "cell_type": "code",
   "execution_count": 13,
   "metadata": {
    "hidden": true
   },
   "outputs": [],
   "source": [
    "for column in df.select_dtypes(['int', \"float\"]).columns:\n",
    "    if column != \"SalePrice\":\n",
    "        df.loc[:, column] = standardize(df.loc[:,\n",
    "                                               column].values.reshape(-1, 1))"
   ]
  },
  {
   "cell_type": "code",
   "execution_count": 14,
   "metadata": {
    "hidden": true
   },
   "outputs": [],
   "source": [
    "df = pd.get_dummies(df, columns=df.select_dtypes(\"object\").columns)"
   ]
  },
  {
   "cell_type": "code",
   "execution_count": 15,
   "metadata": {
    "hidden": true
   },
   "outputs": [],
   "source": [
    "# Competition asks for RMSE with logarithm of SalePrice and predicted price\n",
    "\n",
    "df.loc[:, \"SalePrice\"] = df.loc[:, \"SalePrice\"].apply(np.log1p)"
   ]
  },
  {
   "cell_type": "code",
   "execution_count": 16,
   "metadata": {
    "hidden": true
   },
   "outputs": [
    {
     "data": {
      "text/html": [
       "<div>\n",
       "<style scoped>\n",
       "    .dataframe tbody tr th:only-of-type {\n",
       "        vertical-align: middle;\n",
       "    }\n",
       "\n",
       "    .dataframe tbody tr th {\n",
       "        vertical-align: top;\n",
       "    }\n",
       "\n",
       "    .dataframe thead th {\n",
       "        text-align: right;\n",
       "    }\n",
       "</style>\n",
       "<table border=\"1\" class=\"dataframe\">\n",
       "  <thead>\n",
       "    <tr style=\"text-align: right;\">\n",
       "      <th></th>\n",
       "      <th>LotFrontage</th>\n",
       "      <th>LotArea</th>\n",
       "      <th>OverallQual</th>\n",
       "      <th>OverallCond</th>\n",
       "      <th>MasVnrArea</th>\n",
       "      <th>BsmtFinSF1</th>\n",
       "      <th>BsmtUnfSF</th>\n",
       "      <th>SalePrice</th>\n",
       "      <th>RelAge</th>\n",
       "      <th>Neighborhood_Blmngtn</th>\n",
       "      <th>...</th>\n",
       "      <th>HouseStyle_2.5Unf</th>\n",
       "      <th>HouseStyle_2Story</th>\n",
       "      <th>HouseStyle_SFoyer</th>\n",
       "      <th>HouseStyle_SLvl</th>\n",
       "      <th>SaleCondition_Abnorml</th>\n",
       "      <th>SaleCondition_AdjLand</th>\n",
       "      <th>SaleCondition_Alloca</th>\n",
       "      <th>SaleCondition_Family</th>\n",
       "      <th>SaleCondition_Normal</th>\n",
       "      <th>SaleCondition_Partial</th>\n",
       "    </tr>\n",
       "  </thead>\n",
       "  <tbody>\n",
       "    <tr>\n",
       "      <th>0</th>\n",
       "      <td>0.212877</td>\n",
       "      <td>-0.207142</td>\n",
       "      <td>0.651479</td>\n",
       "      <td>-0.517200</td>\n",
       "      <td>0.514104</td>\n",
       "      <td>0.575425</td>\n",
       "      <td>-0.944591</td>\n",
       "      <td>12.247699</td>\n",
       "      <td>-0.555742</td>\n",
       "      <td>0</td>\n",
       "      <td>...</td>\n",
       "      <td>0</td>\n",
       "      <td>1</td>\n",
       "      <td>0</td>\n",
       "      <td>0</td>\n",
       "      <td>0</td>\n",
       "      <td>0</td>\n",
       "      <td>0</td>\n",
       "      <td>0</td>\n",
       "      <td>1</td>\n",
       "      <td>0</td>\n",
       "    </tr>\n",
       "    <tr>\n",
       "      <th>1</th>\n",
       "      <td>0.645747</td>\n",
       "      <td>-0.091886</td>\n",
       "      <td>-0.071836</td>\n",
       "      <td>2.179628</td>\n",
       "      <td>-0.570750</td>\n",
       "      <td>1.171992</td>\n",
       "      <td>-0.641228</td>\n",
       "      <td>12.109016</td>\n",
       "      <td>-0.555742</td>\n",
       "      <td>0</td>\n",
       "      <td>...</td>\n",
       "      <td>0</td>\n",
       "      <td>0</td>\n",
       "      <td>0</td>\n",
       "      <td>0</td>\n",
       "      <td>0</td>\n",
       "      <td>0</td>\n",
       "      <td>0</td>\n",
       "      <td>0</td>\n",
       "      <td>1</td>\n",
       "      <td>0</td>\n",
       "    </tr>\n",
       "    <tr>\n",
       "      <th>2</th>\n",
       "      <td>0.299451</td>\n",
       "      <td>0.073480</td>\n",
       "      <td>0.651479</td>\n",
       "      <td>-0.517200</td>\n",
       "      <td>0.325915</td>\n",
       "      <td>0.092907</td>\n",
       "      <td>-0.301643</td>\n",
       "      <td>12.317171</td>\n",
       "      <td>-0.514873</td>\n",
       "      <td>0</td>\n",
       "      <td>...</td>\n",
       "      <td>0</td>\n",
       "      <td>1</td>\n",
       "      <td>0</td>\n",
       "      <td>0</td>\n",
       "      <td>0</td>\n",
       "      <td>0</td>\n",
       "      <td>0</td>\n",
       "      <td>0</td>\n",
       "      <td>1</td>\n",
       "      <td>0</td>\n",
       "    </tr>\n",
       "    <tr>\n",
       "      <th>3</th>\n",
       "      <td>0.068587</td>\n",
       "      <td>-0.096897</td>\n",
       "      <td>0.651479</td>\n",
       "      <td>-0.517200</td>\n",
       "      <td>-0.570750</td>\n",
       "      <td>-0.499274</td>\n",
       "      <td>-0.061670</td>\n",
       "      <td>11.849405</td>\n",
       "      <td>1.692084</td>\n",
       "      <td>0</td>\n",
       "      <td>...</td>\n",
       "      <td>0</td>\n",
       "      <td>1</td>\n",
       "      <td>0</td>\n",
       "      <td>0</td>\n",
       "      <td>1</td>\n",
       "      <td>0</td>\n",
       "      <td>0</td>\n",
       "      <td>0</td>\n",
       "      <td>0</td>\n",
       "      <td>0</td>\n",
       "    </tr>\n",
       "    <tr>\n",
       "      <th>4</th>\n",
       "      <td>0.761179</td>\n",
       "      <td>0.375148</td>\n",
       "      <td>1.374795</td>\n",
       "      <td>-0.517200</td>\n",
       "      <td>1.366489</td>\n",
       "      <td>0.463568</td>\n",
       "      <td>-0.174865</td>\n",
       "      <td>12.429220</td>\n",
       "      <td>-0.555742</td>\n",
       "      <td>0</td>\n",
       "      <td>...</td>\n",
       "      <td>0</td>\n",
       "      <td>1</td>\n",
       "      <td>0</td>\n",
       "      <td>0</td>\n",
       "      <td>0</td>\n",
       "      <td>0</td>\n",
       "      <td>0</td>\n",
       "      <td>0</td>\n",
       "      <td>1</td>\n",
       "      <td>0</td>\n",
       "    </tr>\n",
       "  </tbody>\n",
       "</table>\n",
       "<p>5 rows × 48 columns</p>\n",
       "</div>"
      ],
      "text/plain": [
       "   LotFrontage   LotArea  OverallQual  OverallCond  MasVnrArea  BsmtFinSF1  \\\n",
       "0     0.212877 -0.207142     0.651479    -0.517200    0.514104    0.575425   \n",
       "1     0.645747 -0.091886    -0.071836     2.179628   -0.570750    1.171992   \n",
       "2     0.299451  0.073480     0.651479    -0.517200    0.325915    0.092907   \n",
       "3     0.068587 -0.096897     0.651479    -0.517200   -0.570750   -0.499274   \n",
       "4     0.761179  0.375148     1.374795    -0.517200    1.366489    0.463568   \n",
       "\n",
       "   BsmtUnfSF  SalePrice    RelAge  Neighborhood_Blmngtn  ...  \\\n",
       "0  -0.944591  12.247699 -0.555742                     0  ...   \n",
       "1  -0.641228  12.109016 -0.555742                     0  ...   \n",
       "2  -0.301643  12.317171 -0.514873                     0  ...   \n",
       "3  -0.061670  11.849405  1.692084                     0  ...   \n",
       "4  -0.174865  12.429220 -0.555742                     0  ...   \n",
       "\n",
       "   HouseStyle_2.5Unf  HouseStyle_2Story  HouseStyle_SFoyer  HouseStyle_SLvl  \\\n",
       "0                  0                  1                  0                0   \n",
       "1                  0                  0                  0                0   \n",
       "2                  0                  1                  0                0   \n",
       "3                  0                  1                  0                0   \n",
       "4                  0                  1                  0                0   \n",
       "\n",
       "   SaleCondition_Abnorml  SaleCondition_AdjLand  SaleCondition_Alloca  \\\n",
       "0                      0                      0                     0   \n",
       "1                      0                      0                     0   \n",
       "2                      0                      0                     0   \n",
       "3                      1                      0                     0   \n",
       "4                      0                      0                     0   \n",
       "\n",
       "   SaleCondition_Family  SaleCondition_Normal  SaleCondition_Partial  \n",
       "0                     0                     1                      0  \n",
       "1                     0                     1                      0  \n",
       "2                     0                     1                      0  \n",
       "3                     0                     0                      0  \n",
       "4                     0                     1                      0  \n",
       "\n",
       "[5 rows x 48 columns]"
      ]
     },
     "execution_count": 16,
     "metadata": {},
     "output_type": "execute_result"
    }
   ],
   "source": [
    "df.head()"
   ]
  },
  {
   "cell_type": "markdown",
   "metadata": {
    "heading_collapsed": true,
    "hidden": true
   },
   "source": [
    "####  Standardization example"
   ]
  },
  {
   "cell_type": "markdown",
   "metadata": {
    "hidden": true
   },
   "source": [
    "$$Z = \\frac{x-\\mu}{\\sigma}$$"
   ]
  },
  {
   "cell_type": "code",
   "execution_count": 9,
   "metadata": {
    "hidden": true
   },
   "outputs": [
    {
     "name": "stdout",
     "output_type": "stream",
     "text": [
      "Before transformation mean: 10516.83, std: 34.66\n",
      "After transformation mean: 0.0, std: 1.0\n"
     ]
    }
   ],
   "source": [
    "# Lot Area\n",
    "\n",
    "print(\n",
    "    f\"Before transformation mean: {df.LotArea.mean().round(2)}, std: {df.LotFrontage.std().round(2)}\",\n",
    ")\n",
    "\n",
    "standard = standardize(df.LotArea.values.reshape(-1, 1))\n",
    "print(\n",
    "    f\"After transformation mean: {-standard.mean().round(2)}, std: {standard.std().round(2)}\",\n",
    ")"
   ]
  },
  {
   "cell_type": "markdown",
   "metadata": {
    "heading_collapsed": true,
    "hidden": true
   },
   "source": [
    "#### Dummy variable example"
   ]
  },
  {
   "cell_type": "code",
   "execution_count": 10,
   "metadata": {
    "hidden": true
   },
   "outputs": [
    {
     "data": {
      "text/html": [
       "<div>\n",
       "<style scoped>\n",
       "    .dataframe tbody tr th:only-of-type {\n",
       "        vertical-align: middle;\n",
       "    }\n",
       "\n",
       "    .dataframe tbody tr th {\n",
       "        vertical-align: top;\n",
       "    }\n",
       "\n",
       "    .dataframe thead th {\n",
       "        text-align: right;\n",
       "    }\n",
       "</style>\n",
       "<table border=\"1\" class=\"dataframe\">\n",
       "  <thead>\n",
       "    <tr style=\"text-align: right;\">\n",
       "      <th></th>\n",
       "      <th>Column</th>\n",
       "    </tr>\n",
       "  </thead>\n",
       "  <tbody>\n",
       "    <tr>\n",
       "      <th>0</th>\n",
       "      <td>0</td>\n",
       "    </tr>\n",
       "    <tr>\n",
       "      <th>1</th>\n",
       "      <td>1</td>\n",
       "    </tr>\n",
       "    <tr>\n",
       "      <th>2</th>\n",
       "      <td>2</td>\n",
       "    </tr>\n",
       "    <tr>\n",
       "      <th>3</th>\n",
       "      <td>0</td>\n",
       "    </tr>\n",
       "    <tr>\n",
       "      <th>4</th>\n",
       "      <td>1</td>\n",
       "    </tr>\n",
       "  </tbody>\n",
       "</table>\n",
       "</div>"
      ],
      "text/plain": [
       "   Column\n",
       "0       0\n",
       "1       1\n",
       "2       2\n",
       "3       0\n",
       "4       1"
      ]
     },
     "execution_count": 10,
     "metadata": {},
     "output_type": "execute_result"
    }
   ],
   "source": [
    "dummy_example = pd.DataFrame({\"Column\": list(range(3)) * 10})\n",
    "dummy_example.head()"
   ]
  },
  {
   "cell_type": "code",
   "execution_count": 11,
   "metadata": {
    "hidden": true
   },
   "outputs": [
    {
     "data": {
      "text/html": [
       "<div>\n",
       "<style scoped>\n",
       "    .dataframe tbody tr th:only-of-type {\n",
       "        vertical-align: middle;\n",
       "    }\n",
       "\n",
       "    .dataframe tbody tr th {\n",
       "        vertical-align: top;\n",
       "    }\n",
       "\n",
       "    .dataframe thead th {\n",
       "        text-align: right;\n",
       "    }\n",
       "</style>\n",
       "<table border=\"1\" class=\"dataframe\">\n",
       "  <thead>\n",
       "    <tr style=\"text-align: right;\">\n",
       "      <th></th>\n",
       "      <th>Column_0</th>\n",
       "      <th>Column_1</th>\n",
       "      <th>Column_2</th>\n",
       "    </tr>\n",
       "  </thead>\n",
       "  <tbody>\n",
       "    <tr>\n",
       "      <th>0</th>\n",
       "      <td>1</td>\n",
       "      <td>0</td>\n",
       "      <td>0</td>\n",
       "    </tr>\n",
       "    <tr>\n",
       "      <th>1</th>\n",
       "      <td>0</td>\n",
       "      <td>1</td>\n",
       "      <td>0</td>\n",
       "    </tr>\n",
       "    <tr>\n",
       "      <th>2</th>\n",
       "      <td>0</td>\n",
       "      <td>0</td>\n",
       "      <td>1</td>\n",
       "    </tr>\n",
       "    <tr>\n",
       "      <th>3</th>\n",
       "      <td>1</td>\n",
       "      <td>0</td>\n",
       "      <td>0</td>\n",
       "    </tr>\n",
       "    <tr>\n",
       "      <th>4</th>\n",
       "      <td>0</td>\n",
       "      <td>1</td>\n",
       "      <td>0</td>\n",
       "    </tr>\n",
       "  </tbody>\n",
       "</table>\n",
       "</div>"
      ],
      "text/plain": [
       "   Column_0  Column_1  Column_2\n",
       "0         1         0         0\n",
       "1         0         1         0\n",
       "2         0         0         1\n",
       "3         1         0         0\n",
       "4         0         1         0"
      ]
     },
     "execution_count": 11,
     "metadata": {},
     "output_type": "execute_result"
    }
   ],
   "source": [
    "pd.get_dummies(dummy_example, columns=[\"Column\"]).head()"
   ]
  },
  {
   "cell_type": "markdown",
   "metadata": {
    "heading_collapsed": true,
    "hidden": true
   },
   "source": [
    "## Spliting into train, val, test"
   ]
  },
  {
   "cell_type": "code",
   "execution_count": 17,
   "metadata": {
    "hidden": true
   },
   "outputs": [],
   "source": [
    "# Before we move on to the next step we will seperate the dataset into train, validation, test split\n",
    "\n",
    "\n",
    "# Function from https://datascience.stackexchange.com/questions/15135/train-test-validation-set-splitting-in-sklearn\n",
    "def data_split(examples, labels, train_frac, random_state=5):\n",
    "    ''' https://scikit-learn.org/stable/modules/generated/sklearn.model_selection.train_test_split.html\n",
    "    param data:       Data to be split\n",
    "    param train_frac: Ratio of train set to whole dataset\n",
    "\n",
    "    Randomly split dataset, based on these ratios:\n",
    "        'train': train_frac\n",
    "        'valid': (1-train_frac) / 2\n",
    "        'test':  (1-train_frac) / 2\n",
    "\n",
    "    Eg: passing train_frac=0.8 gives a 80% / 10% / 10% split\n",
    "    '''\n",
    "\n",
    "    X_train, X_tmp, Y_train, Y_tmp = train_test_split(\n",
    "        examples, labels, train_size=train_frac, random_state=random_state)\n",
    "\n",
    "    X_val, X_test, Y_val, Y_test = train_test_split(X_tmp,\n",
    "                                                    Y_tmp,\n",
    "                                                    train_size=0.5,\n",
    "                                                    random_state=random_state)\n",
    "\n",
    "    return X_train, X_val, X_test, Y_train, Y_val, Y_test"
   ]
  },
  {
   "cell_type": "code",
   "execution_count": 18,
   "metadata": {
    "hidden": true
   },
   "outputs": [],
   "source": [
    "X_train, X_val, X_val, Y_train, Y_val, Y_test = data_split(example=df.drop(\"SalePrice\", axis=1),\n",
    "                                                            labels=df.SalePrice,train_frac=0.7)"
   ]
  },
  {
   "cell_type": "code",
   "execution_count": 19,
   "metadata": {
    "hidden": true
   },
   "outputs": [
    {
     "name": "stdout",
     "output_type": "stream",
     "text": [
      "Training size is 1021\n",
      "Validation size is 219\n",
      "Test size is 219\n"
     ]
    }
   ],
   "source": [
    "print(f\"Training size is {X_train.shape[0]}\")\n",
    "print(f\"Validation size is {X_val.shape[0]}\")\n",
    "print(f\"Test size is {X_val.shape[0]}\")"
   ]
  },
  {
   "cell_type": "markdown",
   "metadata": {
    "heading_collapsed": true
   },
   "source": [
    "# Models"
   ]
  },
  {
   "cell_type": "code",
   "execution_count": 20,
   "metadata": {
    "hidden": true
   },
   "outputs": [],
   "source": [
    "def scores(actual, prediction):\n",
    "    print(\"RMSE score is {:3f}\".format(\n",
    "        mean_squared_error(actual, prediction, squared=False)))\n",
    "    print(\"R^2 score is {:3f}\".format(r2_score(actual, prediction)))"
   ]
  },
  {
   "cell_type": "markdown",
   "metadata": {
    "hidden": true
   },
   "source": [
    "## Linear Regression"
   ]
  },
  {
   "cell_type": "code",
   "execution_count": 21,
   "metadata": {
    "hidden": true
   },
   "outputs": [
    {
     "name": "stdout",
     "output_type": "stream",
     "text": [
      "Validation\n",
      "RMSE score is 0.171539\n",
      "R^2 score is 0.821081\n"
     ]
    }
   ],
   "source": [
    "linear = LinearRegression()\n",
    "linear.fit(X_train, Y_train)\n",
    "linear_predictions = linear.predict(X_val)\n",
    "print(\"Validation\")\n",
    "scores(Y_val, linear_predictions)\n",
    "\n",
    "# print(\"\\nTest\")\n",
    "# linear_predictions_test = linear.predict(X_test)\n",
    "# scores(Y_test, linear_predictions_test)"
   ]
  },
  {
   "cell_type": "markdown",
   "metadata": {
    "hidden": true
   },
   "source": [
    "## Decision Tree"
   ]
  },
  {
   "cell_type": "code",
   "execution_count": 22,
   "metadata": {
    "hidden": true
   },
   "outputs": [
    {
     "name": "stdout",
     "output_type": "stream",
     "text": [
      "Validation\n",
      "RMSE score is 0.274358\n",
      "R^2 score is 0.542317\n"
     ]
    }
   ],
   "source": [
    "tree = DecisionTreeRegressor()\n",
    "tree.fit(X_train, Y_train)\n",
    "tree_predictios = tree.predict(X_val)\n",
    "print(\"Validation\")\n",
    "scores(Y_val, tree_predictios)\n",
    "\n",
    "# print(\"\\nTest\")\n",
    "# tree_predictions_test = tree.predict(X_test)\n",
    "# scores(Y_test, tree_predictions_test)"
   ]
  },
  {
   "cell_type": "markdown",
   "metadata": {
    "hidden": true
   },
   "source": [
    "## Random Forests"
   ]
  },
  {
   "cell_type": "code",
   "execution_count": 23,
   "metadata": {
    "hidden": true
   },
   "outputs": [
    {
     "name": "stdout",
     "output_type": "stream",
     "text": [
      "Validation\n",
      "RMSE score is 0.189281\n",
      "R^2 score is 0.782157\n"
     ]
    }
   ],
   "source": [
    "forest = RandomForestRegressor()\n",
    "forest.fit(X_train, Y_train)\n",
    "forest_predictios = forest.predict(X_val)\n",
    "print(\"Validation\")\n",
    "\n",
    "scores(Y_val, forest_predictios)\n",
    "\n",
    "# print(\"\\nTest\")\n",
    "# forest_predictios_test = forest.predict(X_test)\n",
    "# scores(Y_test, forest_predictios_test)"
   ]
  },
  {
   "cell_type": "markdown",
   "metadata": {
    "hidden": true
   },
   "source": [
    "## Support Vector Regression"
   ]
  },
  {
   "cell_type": "code",
   "execution_count": 24,
   "metadata": {
    "hidden": true
   },
   "outputs": [
    {
     "name": "stdout",
     "output_type": "stream",
     "text": [
      "Validation\n",
      "RMSE score is 0.176318\n",
      "R^2 score is 0.810974\n"
     ]
    }
   ],
   "source": [
    "svr = SVR()\n",
    "svr.fit(X_train, Y_train)\n",
    "svr_predictions = svr.predict(X_val)\n",
    "print(\"Validation\")\n",
    "scores(Y_val, svr_predictions)\n",
    "\n",
    "\n",
    "# print(\"\\nTest\")\n",
    "# svr_predictios_test = svr.predict(X_test)\n",
    "# scores(Y_test, svr_predictios_test)"
   ]
  },
  {
   "cell_type": "markdown",
   "metadata": {
    "heading_collapsed": true
   },
   "source": [
    "# Hyperparameter Tuning"
   ]
  },
  {
   "cell_type": "code",
   "execution_count": 25,
   "metadata": {
    "hidden": true
   },
   "outputs": [
    {
     "name": "stdout",
     "output_type": "stream",
     "text": [
      "Validation\n",
      "RMSE score is 0.176318\n",
      "R^2 score is 0.810974\n",
      "\n",
      "Test\n",
      "RMSE score is 0.174278\n",
      "R^2 score is 0.785877\n",
      "\n",
      " Best parameters:\n",
      "\t C : 1\n",
      "\t cache_size : 200\n",
      "\t coef0 : 0.0\n",
      "\t degree : 1\n",
      "\t epsilon : 0.1\n",
      "\t gamma : scale\n",
      "\t kernel : rbf\n",
      "\t max_iter : -1\n",
      "\t shrinking : True\n",
      "\t tol : 0.001\n",
      "\t verbose : False\n",
      "CPU times: user 593 ms, sys: 90.7 ms, total: 684 ms\n",
      "Wall time: 40.1 s\n"
     ]
    }
   ],
   "source": [
    "%%time\n",
    "# We will tune hyperparameters for Support Vector Machines\n",
    "\n",
    "params = {\n",
    "    \"kernel\": [\"rbf\", \"poly\", \"linear\"],\n",
    "    \"C\": [0.01, 0.05, 0.1, *range(1, 100, 20)],\n",
    "    \"degree\": range(1, 6, 2)\n",
    "}\n",
    "\n",
    "tuner = GridSearchCV(SVR(),\n",
    "                     param_grid=params,\n",
    "                     scoring='neg_root_mean_squared_error',\n",
    "                     cv=3,\n",
    "                     n_jobs=-1)\n",
    "\n",
    "tuner.fit(X_train, Y_train)\n",
    "tuner_predictions = tuner.predict(X_val)\n",
    "print(\"Validation\")\n",
    "scores(Y_val, tuner_predictions)\n",
    "\n",
    "print(\"\\nTest\")\n",
    "tuner_predictions_test = tuner.predict(X_test)\n",
    "scores(Y_test, tuner_predictions_test)\n",
    "\n",
    "best_parameters = tuner.best_estimator_.get_params()\n",
    "print(\"\\n Best parameters:\")\n",
    "for param, value in best_parameters.items():\n",
    "    print(\"\\t {} : {}\".format(param, value))"
   ]
  },
  {
   "cell_type": "code",
   "execution_count": null,
   "metadata": {
    "hidden": true
   },
   "outputs": [],
   "source": []
  },
  {
   "cell_type": "code",
   "execution_count": null,
   "metadata": {
    "hidden": true
   },
   "outputs": [],
   "source": []
  }
 ],
 "metadata": {
  "kernelspec": {
   "display_name": "Python 3",
   "language": "python",
   "name": "python3"
  },
  "language_info": {
   "codemirror_mode": {
    "name": "ipython",
    "version": 3
   },
   "file_extension": ".py",
   "mimetype": "text/x-python",
   "name": "python",
   "nbconvert_exporter": "python",
   "pygments_lexer": "ipython3",
   "version": "3.7.5"
  },
  "toc": {
   "base_numbering": 1,
   "nav_menu": {},
   "number_sections": true,
   "sideBar": true,
   "skip_h1_title": false,
   "title_cell": "Table of Contents",
   "title_sidebar": "Contents",
   "toc_cell": true,
   "toc_position": {
    "height": "calc(100% - 180px)",
    "left": "10px",
    "top": "150px",
    "width": "165px"
   },
   "toc_section_display": true,
   "toc_window_display": true
  }
 },
 "nbformat": 4,
 "nbformat_minor": 2
}
